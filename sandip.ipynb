{
 "cells": [
  {
   "cell_type": "code",
   "execution_count": 1,
   "id": "4f279116",
   "metadata": {},
   "outputs": [
    {
     "name": "stdout",
     "output_type": "stream",
     "text": [
      "Note: you may need to restart the kernel to use updated packages.\n"
     ]
    },
    {
     "name": "stderr",
     "output_type": "stream",
     "text": [
      "\n",
      "[notice] A new release of pip is available: 24.0 -> 25.0.1\n",
      "[notice] To update, run: python.exe -m pip install --upgrade pip\n"
     ]
    }
   ],
   "source": [
    "%pip install --quiet --upgrade langchain-text-splitters langchain-community langgraph"
   ]
  },
  {
   "cell_type": "code",
   "execution_count": 2,
   "id": "0eae71dd",
   "metadata": {},
   "outputs": [
    {
     "name": "stdout",
     "output_type": "stream",
     "text": [
      "Requirement already satisfied: langchain-community in c:\\users\\sandip.biswas\\documents\\rag_pipeline\\env\\lib\\site-packages (0.3.21)\n",
      "Collecting pypdf\n",
      "  Using cached pypdf-5.4.0-py3-none-any.whl.metadata (7.3 kB)\n",
      "Requirement already satisfied: langchain-core<1.0.0,>=0.3.51 in c:\\users\\sandip.biswas\\documents\\rag_pipeline\\env\\lib\\site-packages (from langchain-community) (0.3.52)\n",
      "Requirement already satisfied: langchain<1.0.0,>=0.3.23 in c:\\users\\sandip.biswas\\documents\\rag_pipeline\\env\\lib\\site-packages (from langchain-community) (0.3.23)\n",
      "Requirement already satisfied: SQLAlchemy<3,>=1.4 in c:\\users\\sandip.biswas\\documents\\rag_pipeline\\env\\lib\\site-packages (from langchain-community) (2.0.40)\n",
      "Requirement already satisfied: requests<3,>=2 in c:\\users\\sandip.biswas\\documents\\rag_pipeline\\env\\lib\\site-packages (from langchain-community) (2.32.3)\n",
      "Requirement already satisfied: PyYAML>=5.3 in c:\\users\\sandip.biswas\\documents\\rag_pipeline\\env\\lib\\site-packages (from langchain-community) (6.0.2)\n",
      "Requirement already satisfied: aiohttp<4.0.0,>=3.8.3 in c:\\users\\sandip.biswas\\documents\\rag_pipeline\\env\\lib\\site-packages (from langchain-community) (3.11.16)\n",
      "Requirement already satisfied: tenacity!=8.4.0,<10,>=8.1.0 in c:\\users\\sandip.biswas\\documents\\rag_pipeline\\env\\lib\\site-packages (from langchain-community) (9.1.2)\n",
      "Requirement already satisfied: dataclasses-json<0.7,>=0.5.7 in c:\\users\\sandip.biswas\\documents\\rag_pipeline\\env\\lib\\site-packages (from langchain-community) (0.6.7)\n",
      "Requirement already satisfied: pydantic-settings<3.0.0,>=2.4.0 in c:\\users\\sandip.biswas\\documents\\rag_pipeline\\env\\lib\\site-packages (from langchain-community) (2.8.1)\n",
      "Requirement already satisfied: langsmith<0.4,>=0.1.125 in c:\\users\\sandip.biswas\\documents\\rag_pipeline\\env\\lib\\site-packages (from langchain-community) (0.3.31)\n",
      "Requirement already satisfied: httpx-sse<1.0.0,>=0.4.0 in c:\\users\\sandip.biswas\\documents\\rag_pipeline\\env\\lib\\site-packages (from langchain-community) (0.4.0)\n",
      "Requirement already satisfied: numpy<3,>=1.26.2 in c:\\users\\sandip.biswas\\documents\\rag_pipeline\\env\\lib\\site-packages (from langchain-community) (2.2.4)\n",
      "Requirement already satisfied: aiohappyeyeballs>=2.3.0 in c:\\users\\sandip.biswas\\documents\\rag_pipeline\\env\\lib\\site-packages (from aiohttp<4.0.0,>=3.8.3->langchain-community) (2.6.1)\n",
      "Requirement already satisfied: aiosignal>=1.1.2 in c:\\users\\sandip.biswas\\documents\\rag_pipeline\\env\\lib\\site-packages (from aiohttp<4.0.0,>=3.8.3->langchain-community) (1.3.2)\n",
      "Requirement already satisfied: attrs>=17.3.0 in c:\\users\\sandip.biswas\\documents\\rag_pipeline\\env\\lib\\site-packages (from aiohttp<4.0.0,>=3.8.3->langchain-community) (25.3.0)\n",
      "Requirement already satisfied: frozenlist>=1.1.1 in c:\\users\\sandip.biswas\\documents\\rag_pipeline\\env\\lib\\site-packages (from aiohttp<4.0.0,>=3.8.3->langchain-community) (1.5.0)\n",
      "Requirement already satisfied: multidict<7.0,>=4.5 in c:\\users\\sandip.biswas\\documents\\rag_pipeline\\env\\lib\\site-packages (from aiohttp<4.0.0,>=3.8.3->langchain-community) (6.4.3)\n",
      "Requirement already satisfied: propcache>=0.2.0 in c:\\users\\sandip.biswas\\documents\\rag_pipeline\\env\\lib\\site-packages (from aiohttp<4.0.0,>=3.8.3->langchain-community) (0.3.1)\n",
      "Requirement already satisfied: yarl<2.0,>=1.17.0 in c:\\users\\sandip.biswas\\documents\\rag_pipeline\\env\\lib\\site-packages (from aiohttp<4.0.0,>=3.8.3->langchain-community) (1.20.0)\n",
      "Requirement already satisfied: marshmallow<4.0.0,>=3.18.0 in c:\\users\\sandip.biswas\\documents\\rag_pipeline\\env\\lib\\site-packages (from dataclasses-json<0.7,>=0.5.7->langchain-community) (3.26.1)\n",
      "Requirement already satisfied: typing-inspect<1,>=0.4.0 in c:\\users\\sandip.biswas\\documents\\rag_pipeline\\env\\lib\\site-packages (from dataclasses-json<0.7,>=0.5.7->langchain-community) (0.9.0)\n",
      "Requirement already satisfied: langchain-text-splitters<1.0.0,>=0.3.8 in c:\\users\\sandip.biswas\\documents\\rag_pipeline\\env\\lib\\site-packages (from langchain<1.0.0,>=0.3.23->langchain-community) (0.3.8)\n",
      "Requirement already satisfied: pydantic<3.0.0,>=2.7.4 in c:\\users\\sandip.biswas\\documents\\rag_pipeline\\env\\lib\\site-packages (from langchain<1.0.0,>=0.3.23->langchain-community) (2.11.3)\n",
      "Requirement already satisfied: jsonpatch<2.0,>=1.33 in c:\\users\\sandip.biswas\\documents\\rag_pipeline\\env\\lib\\site-packages (from langchain-core<1.0.0,>=0.3.51->langchain-community) (1.33)\n",
      "Requirement already satisfied: packaging<25,>=23.2 in c:\\users\\sandip.biswas\\documents\\rag_pipeline\\env\\lib\\site-packages (from langchain-core<1.0.0,>=0.3.51->langchain-community) (24.2)\n",
      "Requirement already satisfied: typing-extensions>=4.7 in c:\\users\\sandip.biswas\\documents\\rag_pipeline\\env\\lib\\site-packages (from langchain-core<1.0.0,>=0.3.51->langchain-community) (4.13.2)\n",
      "Requirement already satisfied: httpx<1,>=0.23.0 in c:\\users\\sandip.biswas\\documents\\rag_pipeline\\env\\lib\\site-packages (from langsmith<0.4,>=0.1.125->langchain-community) (0.28.1)\n",
      "Requirement already satisfied: orjson<4.0.0,>=3.9.14 in c:\\users\\sandip.biswas\\documents\\rag_pipeline\\env\\lib\\site-packages (from langsmith<0.4,>=0.1.125->langchain-community) (3.10.16)\n",
      "Requirement already satisfied: requests-toolbelt<2.0.0,>=1.0.0 in c:\\users\\sandip.biswas\\documents\\rag_pipeline\\env\\lib\\site-packages (from langsmith<0.4,>=0.1.125->langchain-community) (1.0.0)\n",
      "Requirement already satisfied: zstandard<0.24.0,>=0.23.0 in c:\\users\\sandip.biswas\\documents\\rag_pipeline\\env\\lib\\site-packages (from langsmith<0.4,>=0.1.125->langchain-community) (0.23.0)\n",
      "Requirement already satisfied: python-dotenv>=0.21.0 in c:\\users\\sandip.biswas\\documents\\rag_pipeline\\env\\lib\\site-packages (from pydantic-settings<3.0.0,>=2.4.0->langchain-community) (1.1.0)\n",
      "Requirement already satisfied: charset-normalizer<4,>=2 in c:\\users\\sandip.biswas\\documents\\rag_pipeline\\env\\lib\\site-packages (from requests<3,>=2->langchain-community) (3.4.1)\n",
      "Requirement already satisfied: idna<4,>=2.5 in c:\\users\\sandip.biswas\\documents\\rag_pipeline\\env\\lib\\site-packages (from requests<3,>=2->langchain-community) (3.10)\n",
      "Requirement already satisfied: urllib3<3,>=1.21.1 in c:\\users\\sandip.biswas\\documents\\rag_pipeline\\env\\lib\\site-packages (from requests<3,>=2->langchain-community) (2.4.0)\n",
      "Requirement already satisfied: certifi>=2017.4.17 in c:\\users\\sandip.biswas\\documents\\rag_pipeline\\env\\lib\\site-packages (from requests<3,>=2->langchain-community) (2025.1.31)\n",
      "Requirement already satisfied: greenlet>=1 in c:\\users\\sandip.biswas\\documents\\rag_pipeline\\env\\lib\\site-packages (from SQLAlchemy<3,>=1.4->langchain-community) (3.2.0)\n",
      "Requirement already satisfied: anyio in c:\\users\\sandip.biswas\\documents\\rag_pipeline\\env\\lib\\site-packages (from httpx<1,>=0.23.0->langsmith<0.4,>=0.1.125->langchain-community) (4.9.0)\n",
      "Requirement already satisfied: httpcore==1.* in c:\\users\\sandip.biswas\\documents\\rag_pipeline\\env\\lib\\site-packages (from httpx<1,>=0.23.0->langsmith<0.4,>=0.1.125->langchain-community) (1.0.8)\n",
      "Requirement already satisfied: h11<0.15,>=0.13 in c:\\users\\sandip.biswas\\documents\\rag_pipeline\\env\\lib\\site-packages (from httpcore==1.*->httpx<1,>=0.23.0->langsmith<0.4,>=0.1.125->langchain-community) (0.14.0)\n",
      "Requirement already satisfied: jsonpointer>=1.9 in c:\\users\\sandip.biswas\\documents\\rag_pipeline\\env\\lib\\site-packages (from jsonpatch<2.0,>=1.33->langchain-core<1.0.0,>=0.3.51->langchain-community) (3.0.0)\n",
      "Requirement already satisfied: annotated-types>=0.6.0 in c:\\users\\sandip.biswas\\documents\\rag_pipeline\\env\\lib\\site-packages (from pydantic<3.0.0,>=2.7.4->langchain<1.0.0,>=0.3.23->langchain-community) (0.7.0)\n",
      "Requirement already satisfied: pydantic-core==2.33.1 in c:\\users\\sandip.biswas\\documents\\rag_pipeline\\env\\lib\\site-packages (from pydantic<3.0.0,>=2.7.4->langchain<1.0.0,>=0.3.23->langchain-community) (2.33.1)\n",
      "Requirement already satisfied: typing-inspection>=0.4.0 in c:\\users\\sandip.biswas\\documents\\rag_pipeline\\env\\lib\\site-packages (from pydantic<3.0.0,>=2.7.4->langchain<1.0.0,>=0.3.23->langchain-community) (0.4.0)\n",
      "Requirement already satisfied: mypy-extensions>=0.3.0 in c:\\users\\sandip.biswas\\documents\\rag_pipeline\\env\\lib\\site-packages (from typing-inspect<1,>=0.4.0->dataclasses-json<0.7,>=0.5.7->langchain-community) (1.0.0)\n",
      "Requirement already satisfied: sniffio>=1.1 in c:\\users\\sandip.biswas\\documents\\rag_pipeline\\env\\lib\\site-packages (from anyio->httpx<1,>=0.23.0->langsmith<0.4,>=0.1.125->langchain-community) (1.3.1)\n",
      "Using cached pypdf-5.4.0-py3-none-any.whl (302 kB)\n",
      "Installing collected packages: pypdf\n",
      "Successfully installed pypdf-5.4.0\n",
      "Note: you may need to restart the kernel to use updated packages.\n"
     ]
    },
    {
     "name": "stderr",
     "output_type": "stream",
     "text": [
      "\n",
      "[notice] A new release of pip is available: 24.0 -> 25.0.1\n",
      "[notice] To update, run: python.exe -m pip install --upgrade pip\n"
     ]
    }
   ],
   "source": [
    "%pip install langchain-community pypdf"
   ]
  },
  {
   "cell_type": "code",
   "execution_count": 3,
   "id": "30c731f5",
   "metadata": {},
   "outputs": [
    {
     "name": "stdout",
     "output_type": "stream",
     "text": [
      "38\n"
     ]
    }
   ],
   "source": [
    "from langchain_community.document_loaders import PyPDFLoader\n",
    "\n",
    "file_path = \"basics-of-data-science-kpk.pdf\"\n",
    "loader = PyPDFLoader(file_path)\n",
    "docs = loader.load()\n",
    "print(len(docs))"
   ]
  },
  {
   "cell_type": "code",
   "execution_count": 4,
   "id": "4e21100c",
   "metadata": {},
   "outputs": [
    {
     "data": {
      "text/plain": [
       "38"
      ]
     },
     "execution_count": 4,
     "metadata": {},
     "output_type": "execute_result"
    }
   ],
   "source": [
    "from langchain_text_splitters import RecursiveCharacterTextSplitter\n",
    "text_splitter = RecursiveCharacterTextSplitter(\n",
    "    chunk_size=1000, chunk_overlap=200, add_start_index=True\n",
    ")\n",
    "all_splits = text_splitter.split_documents(docs)\n",
    "\n",
    "len(all_splits)"
   ]
  },
  {
   "cell_type": "code",
   "execution_count": 7,
   "id": "beac9021",
   "metadata": {},
   "outputs": [
    {
     "name": "stdout",
     "output_type": "stream",
     "text": [
      "Collecting langchain_openai\n",
      "  Downloading langchain_openai-0.3.13-py3-none-any.whl.metadata (2.3 kB)\n",
      "Requirement already satisfied: langchain-core<1.0.0,>=0.3.52 in c:\\users\\sandip.biswas\\documents\\rag_pipeline\\env\\lib\\site-packages (from langchain_openai) (0.3.52)\n",
      "Collecting openai<2.0.0,>=1.68.2 (from langchain_openai)\n",
      "  Downloading openai-1.75.0-py3-none-any.whl.metadata (25 kB)\n",
      "Collecting tiktoken<1,>=0.7 (from langchain_openai)\n",
      "  Using cached tiktoken-0.9.0-cp311-cp311-win_amd64.whl.metadata (6.8 kB)\n",
      "Requirement already satisfied: langsmith<0.4,>=0.1.125 in c:\\users\\sandip.biswas\\documents\\rag_pipeline\\env\\lib\\site-packages (from langchain-core<1.0.0,>=0.3.52->langchain_openai) (0.3.31)\n",
      "Requirement already satisfied: tenacity!=8.4.0,<10.0.0,>=8.1.0 in c:\\users\\sandip.biswas\\documents\\rag_pipeline\\env\\lib\\site-packages (from langchain-core<1.0.0,>=0.3.52->langchain_openai) (9.1.2)\n",
      "Requirement already satisfied: jsonpatch<2.0,>=1.33 in c:\\users\\sandip.biswas\\documents\\rag_pipeline\\env\\lib\\site-packages (from langchain-core<1.0.0,>=0.3.52->langchain_openai) (1.33)\n",
      "Requirement already satisfied: PyYAML>=5.3 in c:\\users\\sandip.biswas\\documents\\rag_pipeline\\env\\lib\\site-packages (from langchain-core<1.0.0,>=0.3.52->langchain_openai) (6.0.2)\n",
      "Requirement already satisfied: packaging<25,>=23.2 in c:\\users\\sandip.biswas\\documents\\rag_pipeline\\env\\lib\\site-packages (from langchain-core<1.0.0,>=0.3.52->langchain_openai) (24.2)\n",
      "Requirement already satisfied: typing-extensions>=4.7 in c:\\users\\sandip.biswas\\documents\\rag_pipeline\\env\\lib\\site-packages (from langchain-core<1.0.0,>=0.3.52->langchain_openai) (4.13.2)\n",
      "Requirement already satisfied: pydantic<3.0.0,>=2.5.2 in c:\\users\\sandip.biswas\\documents\\rag_pipeline\\env\\lib\\site-packages (from langchain-core<1.0.0,>=0.3.52->langchain_openai) (2.11.3)\n",
      "Requirement already satisfied: anyio<5,>=3.5.0 in c:\\users\\sandip.biswas\\documents\\rag_pipeline\\env\\lib\\site-packages (from openai<2.0.0,>=1.68.2->langchain_openai) (4.9.0)\n",
      "Collecting distro<2,>=1.7.0 (from openai<2.0.0,>=1.68.2->langchain_openai)\n",
      "  Using cached distro-1.9.0-py3-none-any.whl.metadata (6.8 kB)\n",
      "Requirement already satisfied: httpx<1,>=0.23.0 in c:\\users\\sandip.biswas\\documents\\rag_pipeline\\env\\lib\\site-packages (from openai<2.0.0,>=1.68.2->langchain_openai) (0.28.1)\n",
      "Collecting jiter<1,>=0.4.0 (from openai<2.0.0,>=1.68.2->langchain_openai)\n",
      "  Using cached jiter-0.9.0-cp311-cp311-win_amd64.whl.metadata (5.3 kB)\n",
      "Requirement already satisfied: sniffio in c:\\users\\sandip.biswas\\documents\\rag_pipeline\\env\\lib\\site-packages (from openai<2.0.0,>=1.68.2->langchain_openai) (1.3.1)\n",
      "Collecting tqdm>4 (from openai<2.0.0,>=1.68.2->langchain_openai)\n",
      "  Using cached tqdm-4.67.1-py3-none-any.whl.metadata (57 kB)\n",
      "Collecting regex>=2022.1.18 (from tiktoken<1,>=0.7->langchain_openai)\n",
      "  Using cached regex-2024.11.6-cp311-cp311-win_amd64.whl.metadata (41 kB)\n",
      "Requirement already satisfied: requests>=2.26.0 in c:\\users\\sandip.biswas\\documents\\rag_pipeline\\env\\lib\\site-packages (from tiktoken<1,>=0.7->langchain_openai) (2.32.3)\n",
      "Requirement already satisfied: idna>=2.8 in c:\\users\\sandip.biswas\\documents\\rag_pipeline\\env\\lib\\site-packages (from anyio<5,>=3.5.0->openai<2.0.0,>=1.68.2->langchain_openai) (3.10)\n",
      "Requirement already satisfied: certifi in c:\\users\\sandip.biswas\\documents\\rag_pipeline\\env\\lib\\site-packages (from httpx<1,>=0.23.0->openai<2.0.0,>=1.68.2->langchain_openai) (2025.1.31)\n",
      "Requirement already satisfied: httpcore==1.* in c:\\users\\sandip.biswas\\documents\\rag_pipeline\\env\\lib\\site-packages (from httpx<1,>=0.23.0->openai<2.0.0,>=1.68.2->langchain_openai) (1.0.8)\n",
      "Requirement already satisfied: h11<0.15,>=0.13 in c:\\users\\sandip.biswas\\documents\\rag_pipeline\\env\\lib\\site-packages (from httpcore==1.*->httpx<1,>=0.23.0->openai<2.0.0,>=1.68.2->langchain_openai) (0.14.0)\n",
      "Requirement already satisfied: jsonpointer>=1.9 in c:\\users\\sandip.biswas\\documents\\rag_pipeline\\env\\lib\\site-packages (from jsonpatch<2.0,>=1.33->langchain-core<1.0.0,>=0.3.52->langchain_openai) (3.0.0)\n",
      "Requirement already satisfied: orjson<4.0.0,>=3.9.14 in c:\\users\\sandip.biswas\\documents\\rag_pipeline\\env\\lib\\site-packages (from langsmith<0.4,>=0.1.125->langchain-core<1.0.0,>=0.3.52->langchain_openai) (3.10.16)\n",
      "Requirement already satisfied: requests-toolbelt<2.0.0,>=1.0.0 in c:\\users\\sandip.biswas\\documents\\rag_pipeline\\env\\lib\\site-packages (from langsmith<0.4,>=0.1.125->langchain-core<1.0.0,>=0.3.52->langchain_openai) (1.0.0)\n",
      "Requirement already satisfied: zstandard<0.24.0,>=0.23.0 in c:\\users\\sandip.biswas\\documents\\rag_pipeline\\env\\lib\\site-packages (from langsmith<0.4,>=0.1.125->langchain-core<1.0.0,>=0.3.52->langchain_openai) (0.23.0)\n",
      "Requirement already satisfied: annotated-types>=0.6.0 in c:\\users\\sandip.biswas\\documents\\rag_pipeline\\env\\lib\\site-packages (from pydantic<3.0.0,>=2.5.2->langchain-core<1.0.0,>=0.3.52->langchain_openai) (0.7.0)\n",
      "Requirement already satisfied: pydantic-core==2.33.1 in c:\\users\\sandip.biswas\\documents\\rag_pipeline\\env\\lib\\site-packages (from pydantic<3.0.0,>=2.5.2->langchain-core<1.0.0,>=0.3.52->langchain_openai) (2.33.1)\n",
      "Requirement already satisfied: typing-inspection>=0.4.0 in c:\\users\\sandip.biswas\\documents\\rag_pipeline\\env\\lib\\site-packages (from pydantic<3.0.0,>=2.5.2->langchain-core<1.0.0,>=0.3.52->langchain_openai) (0.4.0)\n",
      "Requirement already satisfied: charset-normalizer<4,>=2 in c:\\users\\sandip.biswas\\documents\\rag_pipeline\\env\\lib\\site-packages (from requests>=2.26.0->tiktoken<1,>=0.7->langchain_openai) (3.4.1)\n",
      "Requirement already satisfied: urllib3<3,>=1.21.1 in c:\\users\\sandip.biswas\\documents\\rag_pipeline\\env\\lib\\site-packages (from requests>=2.26.0->tiktoken<1,>=0.7->langchain_openai) (2.4.0)\n",
      "Requirement already satisfied: colorama in c:\\users\\sandip.biswas\\documents\\rag_pipeline\\env\\lib\\site-packages (from tqdm>4->openai<2.0.0,>=1.68.2->langchain_openai) (0.4.6)\n",
      "Downloading langchain_openai-0.3.13-py3-none-any.whl (61 kB)\n",
      "   ---------------------------------------- 0.0/61.7 kB ? eta -:--:--\n",
      "   ------ --------------------------------- 10.2/61.7 kB ? eta -:--:--\n",
      "   -------------------------- ------------- 41.0/61.7 kB 653.6 kB/s eta 0:00:01\n",
      "   ---------------------------------------- 61.7/61.7 kB 659.6 kB/s eta 0:00:00\n",
      "Downloading openai-1.75.0-py3-none-any.whl (646 kB)\n",
      "   ---------------------------------------- 0.0/647.0 kB ? eta -:--:--\n",
      "   ----- ---------------------------------- 92.2/647.0 kB 1.7 MB/s eta 0:00:01\n",
      "   --------------- ------------------------ 256.0/647.0 kB 2.6 MB/s eta 0:00:01\n",
      "   ----------------------------- ---------- 481.3/647.0 kB 3.3 MB/s eta 0:00:01\n",
      "   ---------------------------------------- 647.0/647.0 kB 3.4 MB/s eta 0:00:00\n",
      "Using cached tiktoken-0.9.0-cp311-cp311-win_amd64.whl (893 kB)\n",
      "Using cached distro-1.9.0-py3-none-any.whl (20 kB)\n",
      "Using cached jiter-0.9.0-cp311-cp311-win_amd64.whl (210 kB)\n",
      "Using cached regex-2024.11.6-cp311-cp311-win_amd64.whl (274 kB)\n",
      "Using cached tqdm-4.67.1-py3-none-any.whl (78 kB)\n",
      "Installing collected packages: tqdm, regex, jiter, distro, tiktoken, openai, langchain_openai\n",
      "Successfully installed distro-1.9.0 jiter-0.9.0 langchain_openai-0.3.13 openai-1.75.0 regex-2024.11.6 tiktoken-0.9.0 tqdm-4.67.1\n",
      "Note: you may need to restart the kernel to use updated packages.\n"
     ]
    },
    {
     "name": "stderr",
     "output_type": "stream",
     "text": [
      "\n",
      "[notice] A new release of pip is available: 24.0 -> 25.0.1\n",
      "[notice] To update, run: python.exe -m pip install --upgrade pip\n"
     ]
    }
   ],
   "source": [
    "%pip install langchain_openai"
   ]
  },
  {
   "cell_type": "code",
   "execution_count": 12,
   "id": "cfcc1dd5",
   "metadata": {},
   "outputs": [],
   "source": [
    "import dotenv\n",
    "import os\n",
    "dotenv.load_dotenv()\n",
    "\n",
    "OPENAI_API_KEY = os.getenv(\"OPENAI_API_KEY\")\n",
    "\n",
    "from langchain_openai import OpenAIEmbeddings\n",
    "embeddings = OpenAIEmbeddings(model=\"text-embedding-3-large\", openai_api_key=OPENAI_API_KEY)"
   ]
  },
  {
   "cell_type": "code",
   "execution_count": 13,
   "id": "823df580",
   "metadata": {},
   "outputs": [],
   "source": [
    "from langchain_core.vectorstores import InMemoryVectorStore\n",
    "vector_store = InMemoryVectorStore(embeddings)"
   ]
  },
  {
   "cell_type": "code",
   "execution_count": 14,
   "id": "0809d679",
   "metadata": {},
   "outputs": [],
   "source": [
    "ids = vector_store.add_documents(documents=all_splits)"
   ]
  },
  {
   "cell_type": "code",
   "execution_count": 15,
   "id": "8b32000d",
   "metadata": {},
   "outputs": [],
   "source": [
    "query = \"what is a Recommendation System?\""
   ]
  },
  {
   "cell_type": "code",
   "execution_count": 19,
   "id": "a1f4254b",
   "metadata": {},
   "outputs": [
    {
     "name": "stdout",
     "output_type": "stream",
     "text": [
      "[Document(id='46451417-a3b3-4587-a19c-fd6d8597f057', metadata={'producer': 'Microsoft® Office PowerPoint® 2007', 'creator': 'Microsoft® Office PowerPoint® 2007', 'creationdate': 'D:20230627171255', 'title': 'Programming', 'author': 'csudh csudh', 'moddate': 'D:20230627171255', 'source': 'basics-of-data-science-kpk.pdf', 'total_pages': 38, 'page': 32, 'page_label': '33', 'start_index': 0}, page_content='Recommendation SystemRecommendation System\\n\\uf097 A recommendation system is an artificial intelligence or AI algorithm,\\nusually associated with machine learning, that uses Big Data to\\nsuggest or recommend additional products to consumers.\\nThese can be based on various criteria, including past purchases, search\\nhistory, demographic information, and other factors. To create a\\nrecommendation system. For example, “suggested friends” on\\nFacebook or suggested videos” on Y ouT ube,everything is done with\\nthe help of Data Science.'), Document(id='2f98ad72-96e3-4a97-9554-0e1ba1830edd', metadata={'producer': 'Microsoft® Office PowerPoint® 2007', 'creator': 'Microsoft® Office PowerPoint® 2007', 'creationdate': 'D:20230627171255', 'title': 'Programming', 'author': 'csudh csudh', 'moddate': 'D:20230627171255', 'source': 'basics-of-data-science-kpk.pdf', 'total_pages': 38, 'page': 30, 'page_label': '31', 'start_index': 0}, page_content='Applications of Data ScienceApplications of Data Science\\n\\uf097 Internet Search\\n\\uf097 Recommendation System\\n\\uf097 Image and Speech Recognition\\n\\uf097 Online Price Comparison'), Document(id='00508eaa-1ba6-43ed-919a-ce7ee8122fea', metadata={'producer': 'Microsoft® Office PowerPoint® 2007', 'creator': 'Microsoft® Office PowerPoint® 2007', 'creationdate': 'D:20230627171255', 'title': 'Programming', 'author': 'csudh csudh', 'moddate': 'D:20230627171255', 'source': 'basics-of-data-science-kpk.pdf', 'total_pages': 38, 'page': 34, 'page_label': '35', 'start_index': 0}, page_content='Speech RecognitionSpeech Recognition\\n\\uf097 Speech recognition is an interdisciplinary\\nfield that combines computer science and\\nlinguistics and provides machines with the\\nability to recognize human speech and\\ntranslate it into text. Speech recognizes\\nsystems like Siri, Google Assistant, and\\nAlexa run on the Data science technique'), Document(id='1c3bbc89-21e9-4f62-8a97-f178a5effade', metadata={'producer': 'Microsoft® Office PowerPoint® 2007', 'creator': 'Microsoft® Office PowerPoint® 2007', 'creationdate': 'D:20230627171255', 'title': 'Programming', 'author': 'csudh csudh', 'moddate': 'D:20230627171255', 'source': 'basics-of-data-science-kpk.pdf', 'total_pages': 38, 'page': 31, 'page_label': '32', 'start_index': 0}, page_content='Internet SearchInternet Search\\n\\uf097 Every business today uses Data Science to\\nunderstand what their customers want. In\\nthe same way, Google uses Data\\nScience to understand what its users\\nwant to know. Google search uses Data\\nscience technology to search for a specific\\nresult within a fraction of a second')]\n"
     ]
    }
   ],
   "source": [
    "results = vector_store.similarity_search(\n",
    "    query, \n",
    ")\n",
    "\n",
    "print(results)"
   ]
  },
  {
   "cell_type": "code",
   "execution_count": 23,
   "id": "8a4138c0",
   "metadata": {},
   "outputs": [
    {
     "name": "stdout",
     "output_type": "stream",
     "text": [
      "Score: 0.7165740195463426\n",
      "\n",
      "page_content='Recommendation SystemRecommendation System\n",
      " A recommendation system is an artificial intelligence or AI algorithm,\n",
      "usually associated with machine learning, that uses Big Data to\n",
      "suggest or recommend additional products to consumers.\n",
      "These can be based on various criteria, including past purchases, search\n",
      "history, demographic information, and other factors. To create a\n",
      "recommendation system. For example, “suggested friends” on\n",
      "Facebook or suggested videos” on Y ouT ube,everything is done with\n",
      "the help of Data Science.' metadata={'producer': 'Microsoft® Office PowerPoint® 2007', 'creator': 'Microsoft® Office PowerPoint® 2007', 'creationdate': 'D:20230627171255', 'title': 'Programming', 'author': 'csudh csudh', 'moddate': 'D:20230627171255', 'source': 'basics-of-data-science-kpk.pdf', 'total_pages': 38, 'page': 32, 'page_label': '33', 'start_index': 0}\n"
     ]
    }
   ],
   "source": [
    "results = vector_store.similarity_search_with_score(query, k=3)\n",
    "doc, score = results[0]\n",
    "print(f\"Score: {score}\\n\")\n",
    "print(doc)"
   ]
  }
 ],
 "metadata": {
  "kernelspec": {
   "display_name": "env",
   "language": "python",
   "name": "python3"
  },
  "language_info": {
   "codemirror_mode": {
    "name": "ipython",
    "version": 3
   },
   "file_extension": ".py",
   "mimetype": "text/x-python",
   "name": "python",
   "nbconvert_exporter": "python",
   "pygments_lexer": "ipython3",
   "version": "3.11.9"
  }
 },
 "nbformat": 4,
 "nbformat_minor": 5
}
